{
 "cells": [
  {
   "cell_type": "code",
   "execution_count": 8,
   "metadata": {},
   "outputs": [
    {
     "ename": "TypeError",
     "evalue": "read_csv() got an unexpected keyword argument 'squeeze'",
     "output_type": "error",
     "traceback": [
      "\u001b[1;31m---------------------------------------------------------------------------\u001b[0m",
      "\u001b[1;31mTypeError\u001b[0m                                 Traceback (most recent call last)",
      "\u001b[1;32md:\\Pranto\\study\\4_1\\Computer Simulation and Modeling\\Lab\\Task_6_Arima_model\\ARIMA_Code.ipynb Cell 1\u001b[0m line \u001b[0;36m1\n\u001b[0;32m      <a href='vscode-notebook-cell:/d%3A/Pranto/study/4_1/Computer%20Simulation%20and%20Modeling/Lab/Task_6_Arima_model/ARIMA_Code.ipynb#W0sZmlsZQ%3D%3D?line=6'>7</a>\u001b[0m \u001b[39mdef\u001b[39;00m \u001b[39mparser\u001b[39m(x):\n\u001b[0;32m      <a href='vscode-notebook-cell:/d%3A/Pranto/study/4_1/Computer%20Simulation%20and%20Modeling/Lab/Task_6_Arima_model/ARIMA_Code.ipynb#W0sZmlsZQ%3D%3D?line=7'>8</a>\u001b[0m  \u001b[39mreturn\u001b[39;00m datetime\u001b[39m.\u001b[39mstrptime(\u001b[39m'\u001b[39m\u001b[39m190\u001b[39m\u001b[39m'\u001b[39m\u001b[39m+\u001b[39mx, \u001b[39m'\u001b[39m\u001b[39m%\u001b[39m\u001b[39mY-\u001b[39m\u001b[39m%\u001b[39m\u001b[39mm\u001b[39m\u001b[39m'\u001b[39m)\n\u001b[1;32m---> <a href='vscode-notebook-cell:/d%3A/Pranto/study/4_1/Computer%20Simulation%20and%20Modeling/Lab/Task_6_Arima_model/ARIMA_Code.ipynb#W0sZmlsZQ%3D%3D?line=9'>10</a>\u001b[0m series \u001b[39m=\u001b[39m read_csv(\u001b[39m'\u001b[39;49m\u001b[39mshampoo-sales.csv\u001b[39;49m\u001b[39m'\u001b[39;49m, header\u001b[39m=\u001b[39;49m\u001b[39m0\u001b[39;49m, parse_dates\u001b[39m=\u001b[39;49m[\u001b[39m0\u001b[39;49m], index_col\u001b[39m=\u001b[39;49m\u001b[39m0\u001b[39;49m, squeeze\u001b[39m=\u001b[39;49m\u001b[39mTrue\u001b[39;49;00m, date_parser\u001b[39m=\u001b[39;49mparser)\n\u001b[0;32m     <a href='vscode-notebook-cell:/d%3A/Pranto/study/4_1/Computer%20Simulation%20and%20Modeling/Lab/Task_6_Arima_model/ARIMA_Code.ipynb#W0sZmlsZQ%3D%3D?line=10'>11</a>\u001b[0m \u001b[39mprint\u001b[39m(series\u001b[39m.\u001b[39mhead())\n\u001b[0;32m     <a href='vscode-notebook-cell:/d%3A/Pranto/study/4_1/Computer%20Simulation%20and%20Modeling/Lab/Task_6_Arima_model/ARIMA_Code.ipynb#W0sZmlsZQ%3D%3D?line=11'>12</a>\u001b[0m series\u001b[39m.\u001b[39mplot()\n",
      "\u001b[1;31mTypeError\u001b[0m: read_csv() got an unexpected keyword argument 'squeeze'"
     ]
    }
   ],
   "source": [
    "from pandas import read_csv\n",
    "import time\n",
    "import datetime\n",
    "# from pandas import datetime\n",
    "from matplotlib import pyplot\n",
    " \n",
    "def parser(x):\n",
    " return datetime.strptime('190'+x, '%Y-%m')\n",
    " \n",
    "series = read_csv('shampoo-sales.csv', header=0, parse_dates=[0], index_col=0, squeeze=True, date_parser=parser)\n",
    "print(series.head())\n",
    "series.plot()\n",
    "pyplot.show()"
   ]
  }
 ],
 "metadata": {
  "kernelspec": {
   "display_name": "Python 3",
   "language": "python",
   "name": "python3"
  },
  "language_info": {
   "codemirror_mode": {
    "name": "ipython",
    "version": 3
   },
   "file_extension": ".py",
   "mimetype": "text/x-python",
   "name": "python",
   "nbconvert_exporter": "python",
   "pygments_lexer": "ipython3",
   "version": "3.10.1"
  }
 },
 "nbformat": 4,
 "nbformat_minor": 2
}
