{
 "cells": [
  {
   "cell_type": "code",
   "execution_count": 31,
   "metadata": {},
   "outputs": [],
   "source": [
    "fighter_Position = [0,0]\n",
    "# print(type(fighter_Position))\n",
    "VF = 20 #20 Kms/minute\n",
    "T = 0\n",
    "\n",
    "bomber_Coordinates = []\n",
    "for line in open('./Bomber_Coordinate.txt'):\n",
    "    t, x, y = line.strip().split(\",\") #This split function will return a list of string, so need to convert int type\n",
    "    t = int(t)\n",
    "    x = int(x)\n",
    "    y = int(y)\n",
    "    T = max(T,t)\n",
    "    coordinate = (x,y)\n",
    "    bomber_Coordinates.append(coordinate)\n",
    "# bomber_Coordinates\n"
   ]
  },
  {
   "cell_type": "code",
   "execution_count": 32,
   "metadata": {},
   "outputs": [],
   "source": [
    "import math\n",
    "\n",
    "def calculate_Distance(fighter_Coor, boomber_Coor):\n",
    "    x = boomber_Coor[0] - fighter_Coor[0]\n",
    "    x = pow(x,2)\n",
    "    y = boomber_Coor[1] - fighter_Coor[1]\n",
    "    y = pow(y,2)\n",
    "    return math.sqrt(x+y)"
   ]
  },
  {
   "cell_type": "code",
   "execution_count": 33,
   "metadata": {},
   "outputs": [
    {
     "name": "stdout",
     "output_type": "stream",
     "text": [
      "Boomber is down. Position = (141, -29), time = 7\n"
     ]
    }
   ],
   "source": [
    "for t in range(0, T):\n",
    "    if t > 12:\n",
    "        print(\"Boomber Escaped...! :(\")\n",
    "        break\n",
    "    dist = calculate_Distance(fighter_Position, bomber_Coordinates[t])\n",
    "    if dist <= 10:\n",
    "        print(\"Boomber is down. Position = {}, time = {}\".format(bomber_Coordinates[t], t))\n",
    "        break\n",
    "    else:\n",
    "        cos_Theta = (bomber_Coordinates[t][0] - fighter_Position[0]) / dist\n",
    "        sin_Theta = (bomber_Coordinates[t][1] - fighter_Position[1]) / dist\n",
    "        fighter_Position[0] = fighter_Position[0] + VF * cos_Theta\n",
    "        fighter_Position[1] = fighter_Position[1] + VF * sin_Theta\n",
    "        "
   ]
  }
 ],
 "metadata": {
  "kernelspec": {
   "display_name": "Python 3",
   "language": "python",
   "name": "python3"
  },
  "language_info": {
   "codemirror_mode": {
    "name": "ipython",
    "version": 3
   },
   "file_extension": ".py",
   "mimetype": "text/x-python",
   "name": "python",
   "nbconvert_exporter": "python",
   "pygments_lexer": "ipython3",
   "version": "3.10.12"
  },
  "orig_nbformat": 4
 },
 "nbformat": 4,
 "nbformat_minor": 2
}
