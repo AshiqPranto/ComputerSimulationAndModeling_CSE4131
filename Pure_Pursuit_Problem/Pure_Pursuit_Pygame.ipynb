{
 "cells": [
  {
   "cell_type": "markdown",
   "metadata": {},
   "source": [
    "Prepare Fighter and Boomber plane coordinates\n"
   ]
  },
  {
   "cell_type": "code",
   "execution_count": 16,
   "metadata": {},
   "outputs": [],
   "source": [
    "fighter_coordinates = [(0, 0)]\n",
    "vf = 20 \n",
    "T = 0\n",
    "\n",
    "boomber_coordinates = []\n",
    "with open('./Bomber_Coordinate.txt') as f: # with keyword is used to close file automatically\n",
    "    for line in f:\n",
    "        t, x, y = line.strip().split(',')\n",
    "        t = int(t); x = int(x); y = int(y)\n",
    "        boomber_coordinates.append([x, y])\n",
    "T = len(boomber_coordinates)\n"
   ]
  },
  {
   "cell_type": "code",
   "execution_count": 11,
   "metadata": {},
   "outputs": [],
   "source": [
    "import math\n",
    "\n",
    "def distance_between_two_coordinates(fighter_coordinate, boomber_coordinate):\n",
    "    x = pow(boomber_coordinate[0] - fighter_coordinate[0], 2)\n",
    "    y = pow(boomber_coordinate[1] - fighter_coordinate[1], 2)\n",
    "    return math.sqrt(x + y)"
   ]
  },
  {
   "cell_type": "markdown",
   "metadata": {},
   "source": [
    "The coordinates provided for the bomber plane are initially defined in the world coordinate system. However, directly displaying these values doesn't result in an aesthetically pleasing user interface. This is due to the fact that the y-axis values are predominantly negative, whereas in the Pygame framework, both x and y coordinates start from the origin at (0,0).\n",
    "\n",
    "Furthermore, the differences between the bomber's coordinates are relatively small. When directly visualized in the Pygame display, this tight clustering of coordinates could lead to a visually cluttered representation. To address these issues and create a more visually appealing and informative display, a twofold transformation is employed.\n",
    "\n",
    "First, a shift is applied to the coordinates. By adding a positive offset to both x and y values, the coordinate system is effectively re-centered, allowing for better alignment with the Pygame display's starting point.\n",
    "\n",
    "Second, a scaling factor is introduced to the adjusted coordinates. This scaling ensures that the world coordinates are expanded or contracted as needed, offering a clearer visual separation between points. By multiplying the shifted coordinates by appropriate factors, the representation on the Pygame screen becomes more intuitive and avoids the dense clustering that could hinder visual comprehension."
   ]
  },
  {
   "cell_type": "code",
   "execution_count": 15,
   "metadata": {},
   "outputs": [],
   "source": [
    "def convert_to_pixel_coordinate(world_coordinate):\n",
    "    return (3 * (world_coordinate[0] + 50), 6 * (world_coordinate[1] + 50))"
   ]
  },
  {
   "cell_type": "code",
   "execution_count": 17,
   "metadata": {},
   "outputs": [
    {
     "name": "stdout",
     "output_type": "stream",
     "text": [
      "Caught Boomber...! at Time = 7, Boomber Position = [141, -29] and Fighter Position = (136.24556481500878, -24.538390244317917)\n"
     ]
    }
   ],
   "source": [
    "import pygame\n",
    "\n",
    "pygame.init()\n",
    "pygame.display.set_caption(\"Pure Pursuit Simulation\")\n",
    "\n",
    "screen_width = 1200; screen_height = 800\n",
    "screen_surface = pygame.display.set_mode((screen_width, screen_height))\n",
    "\n",
    "font_name = pygame.font.get_fonts()[0]\n",
    "font = pygame.font.SysFont(font_name, 64)\n",
    "\n",
    "boomber_surface = font.render(\"B\",True,\"white\",\"black\")\n",
    "fighter_surface = font.render(\"F\", True, \"white\", \"black\")\n",
    "escaped_surface = font.render(\"Escaped\", True, \"white\", \"black\")\n",
    "caught_surface = font.render(\"Caught\", True, \"black\", \"orange\")\n",
    "\n",
    "running = True\n",
    "t = 0\n",
    "\n",
    "while running:\n",
    "    screen_surface.fill(\"black\")\n",
    "    # for event in pygame.event.get():\n",
    "    #     if event.type == pygame.QUIT:\n",
    "    #         running = False\n",
    "    while t <= T and running:\n",
    "        pygame.time.Clock().tick(1.5)\n",
    "        time_surface = font.render(\"Time: \" + str(t), True, \"white\", \"black\")\n",
    "        screen_surface.blit(time_surface, (100, screen_height-150))\n",
    "\n",
    "        if t == T:\n",
    "            screen_surface.blit(escaped_surface, (screen_width / 2, screen_height / 2))\n",
    "            print(\"Escaped..!\")\n",
    "            running = False\n",
    "\n",
    "        if t > 0:\n",
    "            pygame.draw.line(screen_surface, \"white\", convert_to_pixel_coordinate(fighter_coordinates[t-1]), convert_to_pixel_coordinate(fighter_coordinates[t]), 2)\n",
    "            pygame.draw.line(screen_surface, \"orange\", convert_to_pixel_coordinate(boomber_coordinates[t-1]), convert_to_pixel_coordinate(boomber_coordinates[t]), 2)\n",
    "            pygame.draw.circle(screen_surface, \"white\", convert_to_pixel_coordinate(fighter_coordinates[t]), 4)\n",
    "            pygame.draw.circle(screen_surface, \"orange\", convert_to_pixel_coordinate(boomber_coordinates[t]), 4)\n",
    "        \n",
    "        else:\n",
    "            screen_surface.blit(fighter_surface, convert_to_pixel_coordinate(fighter_coordinates[0]))\n",
    "            screen_surface.blit(boomber_surface, convert_to_pixel_coordinate(boomber_coordinates[0]))\n",
    "        \n",
    "        dist = distance_between_two_coordinates(fighter_coordinates[t], boomber_coordinates[t])\n",
    "\n",
    "        if dist <= 10:\n",
    "            screen_surface.blit(caught_surface, (screen_width / 2, screen_height / 2))\n",
    "            print(\"Caught Boomber...! at Time = {}, Boomber Position = {} and Fighter Position = {}\".format(t, boomber_coordinates[t], fighter_coordinates[t]))\n",
    "            running = False            \n",
    "\n",
    "        else:\n",
    "            cos_Theta = (boomber_coordinates[t][0] - fighter_coordinates[t][0]) / dist\n",
    "            sin_Theta = (boomber_coordinates[t][1] - fighter_coordinates[t][1]) / dist\n",
    "            xf = fighter_coordinates[t][0] + vf * cos_Theta\n",
    "            yf = fighter_coordinates[t][1] + vf * sin_Theta\n",
    "\n",
    "            fighter_coordinates.append((xf, yf))\n",
    "        pygame.display.flip()\n",
    "        t += 1\n",
    "    pygame.time.delay(3000)\n",
    "    if not running:\n",
    "        pygame.quit()\n",
    "        break\n"
   ]
  }
 ],
 "metadata": {
  "kernelspec": {
   "display_name": "Python 3",
   "language": "python",
   "name": "python3"
  },
  "language_info": {
   "codemirror_mode": {
    "name": "ipython",
    "version": 3
   },
   "file_extension": ".py",
   "mimetype": "text/x-python",
   "name": "python",
   "nbconvert_exporter": "python",
   "pygments_lexer": "ipython3",
   "version": "3.10.1"
  },
  "orig_nbformat": 4
 },
 "nbformat": 4,
 "nbformat_minor": 2
}
